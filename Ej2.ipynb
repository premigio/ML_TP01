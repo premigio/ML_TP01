{
 "cells": [
  {
   "cell_type": "markdown",
   "metadata": {
    "collapsed": true,
    "pycharm": {
     "name": "#%% md\n"
    }
   },
   "source": [
    "## Preferencias Britanicos\n",
    "\n",
    "Queremos analizar la nacionalidad de una persona dado sus preferencias.\n",
    "\n",
    "\n",
    "Considerando (scones, cerveza, whisky, avena, futbol) las posibles preferencias de una persona,\n",
    "podemos pasar a un vector de gustos en donde si hay un vector x = (1, 0, 1, 1, 0), entonces le gustan los scones,\n",
    "el whisky y la avena.\n",
    "\n",
    "Las nacionalidades presentes son Inglesa y Escosesa.\n",
    "\n",
    "La funcion analyse_country_likings hace el entrenamiento y se fija al mismo tiempo embasado en las probabilidades\n",
    "calculadas de donde debe venir la persona.\n",
    "\n",
    "Si quiero saber de donde probablemente es una persona con el vector de gustos (1,0,1,1,0), hago:"
   ]
  },
  {
   "cell_type": "code",
   "execution_count": 16,
   "outputs": [
    {
     "name": "stdout",
     "text": [
      "{'Ingles': [0.5, 0.5, 0.5, 0.5, 0.5], 'Escoces': [0.7333333333333333, 0.5333333333333333, 0.4, 0.6, 0.4666666666666667]}\nEscoces\n"
     ],
     "output_type": "stream"
    }
   ],
   "source": [
    "findout_country = [1,0,1,1,0]\n",
    "\n",
    "df = open('./resources/PreferenciasBritanicos.csv', 'r')\n",
    "probability_per_country = [[0 for x in range(5)] for y in range(2)]\n",
    "total_probability = [0 for x in range(5)]\n",
    "indexes = [0 for x in range(2)]\n",
    "index = 0\n",
    "for preference_vectors_aux in df.readlines():\n",
    "    if index > 0:\n",
    "        preference_vectors = preference_vectors_aux.split(';')\n",
    "        if preference_vectors[5] == 'I\\r\\n' or preference_vectors[5] == 'I':\n",
    "            country = 0\n",
    "            indexes[0] += 1\n",
    "        else:\n",
    "            country = 1\n",
    "            indexes[1] += 1\n",
    "        for i in range(0, 5):\n",
    "            probability_per_country[country][i] += int(preference_vectors[i])\n",
    "            total_probability[i] += int(preference_vectors[i])\n",
    "    index += 1\n",
    "\n",
    "for i in range(0, 5):\n",
    "    probability_per_country[0][i] += 1\n",
    "    probability_per_country[0][i] /= float(indexes[0] + 2)\n",
    "    probability_per_country[1][i] += 1\n",
    "    probability_per_country[1][i] /= float(indexes[1] + 2)\n",
    "    total_probability[i] /= float(index - 1)\n",
    "\n",
    "max_prob = 0.0\n",
    "max_country = 'No country'\n",
    "prob = {}\n",
    "for i in range(0, 2):\n",
    "    given_probability = 1.0\n",
    "    for j in range(0, 5):\n",
    "        if findout_country[j] != 0:\n",
    "            given_probability *= probability_per_country[i][j]\n",
    "        else:\n",
    "            given_probability *= 1.0 - probability_per_country[i][j]\n",
    "\n",
    "    country_prob = float(given_probability) * indexes[i] / index\n",
    "    max_prob = country_prob if max_prob < country_prob else max_prob\n",
    "    max_country = 'Escoces' if max_prob <= country_prob and i == 1 else max_country\n",
    "    max_country = 'Ingles' if max_prob <= country_prob and i == 0 else max_country\n",
    "    prob = {'Ingles': probability_per_country[0], 'Escoces': probability_per_country[1]}\n",
    "\n",
    "print(prob)\n",
    "print(max_country)"
   ],
   "metadata": {
    "collapsed": false,
    "pycharm": {
     "name": "#%%\n",
     "is_executing": false
    }
   }
  }
 ],
 "metadata": {
  "kernelspec": {
   "display_name": "Python 3",
   "language": "python",
   "name": "python3"
  },
  "language_info": {
   "codemirror_mode": {
    "name": "ipython",
    "version": 2
   },
   "file_extension": ".py",
   "mimetype": "text/x-python",
   "name": "python",
   "nbconvert_exporter": "python",
   "pygments_lexer": "ipython2",
   "version": "2.7.6"
  },
  "pycharm": {
   "stem_cell": {
    "cell_type": "raw",
    "source": [],
    "metadata": {
     "collapsed": false
    }
   }
  }
 },
 "nbformat": 4,
 "nbformat_minor": 0
}