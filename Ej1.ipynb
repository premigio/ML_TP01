{
 "cells": [
  {
   "cell_type": "markdown",
   "source": [
    "## Calculo de probabilidades de oyentes de una radio\n",
    "\n",
    "Tengo 4 programas. Las probabilidades de que un oyente joven o viejo las escuchen son:"
   ],
   "metadata": {
    "collapsed": false,
    "pycharm": {
     "name": "#%% md\n"
    }
   }
  },
  {
   "cell_type": "code",
   "execution_count": 24,
   "outputs": [
    {
     "data": {
      "text/plain": "       Programa 1  Programa 2  Programa 3  Programa 4\nJoven        0.95        0.05        0.02        0.20\nViejo        0.03        0.82        0.34        0.92",
      "text/html": "<div>\n<style scoped>\n    .dataframe tbody tr th:only-of-type {\n        vertical-align: middle;\n    }\n\n    .dataframe tbody tr th {\n        vertical-align: top;\n    }\n\n    .dataframe thead th {\n        text-align: right;\n    }\n</style>\n<table border=\"1\" class=\"dataframe\">\n  <thead>\n    <tr style=\"text-align: right;\">\n      <th></th>\n      <th>Programa 1</th>\n      <th>Programa 2</th>\n      <th>Programa 3</th>\n      <th>Programa 4</th>\n    </tr>\n  </thead>\n  <tbody>\n    <tr>\n      <th>Joven</th>\n      <td>0.95</td>\n      <td>0.05</td>\n      <td>0.02</td>\n      <td>0.20</td>\n    </tr>\n    <tr>\n      <th>Viejo</th>\n      <td>0.03</td>\n      <td>0.82</td>\n      <td>0.34</td>\n      <td>0.92</td>\n    </tr>\n  </tbody>\n</table>\n</div>"
     },
     "metadata": {},
     "output_type": "execute_result",
     "execution_count": 24
    }
   ],
   "source": [
    "import pandas as pd\n",
    "p = [[0.95, 0.05, 0.02, 0.20],[0.03, 0.82, 0.34, 0.92]]\n",
    "pd.DataFrame(p, columns=[\"Programa 1\", \"Programa 2\", \"Programa 3\", \"Programa 4\"], index=[\"Joven\", \"Viejo\"])\n"
   ],
   "metadata": {
    "collapsed": false,
    "pycharm": {
     "name": "#%%\n",
     "is_executing": false
    }
   }
  },
  {
   "cell_type": "markdown",
   "source": [
    "Se tambien que la probabilidad que el oyente sea viejo es 0.9\n",
    "Calculo entonces para un oyente nuevo, cuales \n",
    "son las probabilidades de que sea joven, viejo y con eso, cual de las opciones es más probable.\n",
    "Uso un oyente que escucha apenas a los programas 1 y 3. La funcion usada es la siguiente:"
   ],
   "metadata": {
    "collapsed": false,
    "pycharm": {
     "name": "#%% md\n"
    }
   }
  },
  {
   "cell_type": "code",
   "execution_count": 25,
   "outputs": [],
   "source": [
    "def calculate_oyente(pref, probability_dic, listeners_proportion):\n",
    "    final_p = {}\n",
    "\n",
    "    for i in range(len(pref)):\n",
    "        for j in probability_dic.keys():\n",
    "            final_p[j] = final_p.get(j, listeners_proportion[j]) * (\n",
    "                probability_dic[j][i] if pref[i] == 1 else 1 - probability_dic[j][i])\n",
    "\n",
    "    oyente_final = max(final_p, key=final_p.get)\n",
    "\n",
    "    return oyente_final, final_p"
   ],
   "metadata": {
    "collapsed": false,
    "pycharm": {
     "name": "#%%\n",
     "is_executing": false
    }
   }
  },
  {
   "cell_type": "markdown",
   "source": [
    "El resultado de correr esta funcion con lo de arriba es:"
   ],
   "metadata": {
    "collapsed": false,
    "pycharm": {
     "name": "#%% md\n"
    }
   }
  },
  {
   "cell_type": "code",
   "execution_count": 26,
   "outputs": [
    {
     "traceback": [
      "\u001b[0;31m---------------------------------------------------------------------------\u001b[0m",
      "\u001b[0;31mAttributeError\u001b[0m                            Traceback (most recent call last)",
      "\u001b[0;32m<ipython-input-26-69adacf902e1>\u001b[0m in \u001b[0;36m<module>\u001b[0;34m\u001b[0m\n\u001b[1;32m      8\u001b[0m \u001b[0;34m\u001b[0m\u001b[0m\n\u001b[1;32m      9\u001b[0m \u001b[0moyente_string\u001b[0m\u001b[0;34m,\u001b[0m \u001b[0moyente_probabilities\u001b[0m \u001b[0;34m=\u001b[0m\u001b[0;31m \u001b[0m\u001b[0;31m\\\u001b[0m\u001b[0;34m\u001b[0m\u001b[0;34m\u001b[0m\u001b[0m\n\u001b[0;32m---> 10\u001b[0;31m \u001b[0mcalculate_oyente\u001b[0m\u001b[0;34m(\u001b[0m\u001b[0;34m*\u001b[0m\u001b[0;34m{\u001b[0m\u001b[0;34m'pref'\u001b[0m\u001b[0;34m:\u001b[0m\u001b[0moyente\u001b[0m\u001b[0;34m,\u001b[0m \u001b[0;34m'probability_dic'\u001b[0m\u001b[0;34m:\u001b[0m\u001b[0mprobabilities\u001b[0m\u001b[0;34m,\u001b[0m \u001b[0;34m'listeners_proportion'\u001b[0m\u001b[0;34m:\u001b[0m\u001b[0;34m{\u001b[0m\u001b[0;34m'joven'\u001b[0m\u001b[0;34m:\u001b[0m \u001b[0;34m(\u001b[0m\u001b[0;36m1.0\u001b[0m \u001b[0;34m-\u001b[0m \u001b[0mpv\u001b[0m\u001b[0;34m)\u001b[0m\u001b[0;34m,\u001b[0m \u001b[0;34m'viejo'\u001b[0m\u001b[0;34m:\u001b[0m \u001b[0mpv\u001b[0m\u001b[0;34m}\u001b[0m\u001b[0;34m}\u001b[0m\u001b[0;34m)\u001b[0m\u001b[0;34m\u001b[0m\u001b[0;34m\u001b[0m\u001b[0m\n\u001b[0m\u001b[1;32m     11\u001b[0m \u001b[0;34m\u001b[0m\u001b[0m\n\u001b[1;32m     12\u001b[0m \u001b[0;34m\u001b[0m\u001b[0m\n",
      "\u001b[0;32m<ipython-input-25-c59c07d0ac76>\u001b[0m in \u001b[0;36mcalculate_oyente\u001b[0;34m(pref, probability_dic, listeners_proportion)\u001b[0m\n\u001b[1;32m      3\u001b[0m \u001b[0;34m\u001b[0m\u001b[0m\n\u001b[1;32m      4\u001b[0m     \u001b[0;32mfor\u001b[0m \u001b[0mi\u001b[0m \u001b[0;32min\u001b[0m \u001b[0mrange\u001b[0m\u001b[0;34m(\u001b[0m\u001b[0mlen\u001b[0m\u001b[0;34m(\u001b[0m\u001b[0mpref\u001b[0m\u001b[0;34m)\u001b[0m\u001b[0;34m)\u001b[0m\u001b[0;34m:\u001b[0m\u001b[0;34m\u001b[0m\u001b[0;34m\u001b[0m\u001b[0m\n\u001b[0;32m----> 5\u001b[0;31m         \u001b[0;32mfor\u001b[0m \u001b[0mj\u001b[0m \u001b[0;32min\u001b[0m \u001b[0mprobability_dic\u001b[0m\u001b[0;34m.\u001b[0m\u001b[0mkeys\u001b[0m\u001b[0;34m(\u001b[0m\u001b[0;34m)\u001b[0m\u001b[0;34m:\u001b[0m\u001b[0;34m\u001b[0m\u001b[0;34m\u001b[0m\u001b[0m\n\u001b[0m\u001b[1;32m      6\u001b[0m             final_p[j] = final_p.get(j, listeners_proportion[j]) * (\n\u001b[1;32m      7\u001b[0m                 probability_dic[j][i] if pref[i] == 1 else 1 - probability_dic[j][i])\n",
      "\u001b[0;31mAttributeError\u001b[0m: 'str' object has no attribute 'keys'"
     ],
     "ename": "AttributeError",
     "evalue": "'str' object has no attribute 'keys'",
     "output_type": "error"
    }
   ],
   "source": [
    "probabilities = {\n",
    "    'joven': [0.95, 0.05, 0.02, 0.20],\n",
    "    'viejo': [0.03, 0.82, 0.34, 0.92]\n",
    "}\n",
    "pv = 0.9\n",
    "oyente = [1, 0, 1, 0]\n",
    "\n",
    "\n",
    "oyente_string, oyente_probabilities = \\\n",
    "calculate_oyente(pref=oyente, probability_dic=probabilities, listeners_proportion={'joven': (1.0 - pv), 'viejo': pv})\n",
    "\n",
    "\n",
    "print('La probabilidad que sea joven es ' + str(oyente_probabilities['joven']))\n",
    "print('La probabilidad que sea viejo es ' + str(oyente_probabilities['viejo']))\n",
    "print('El oyente es probablemente ' + oyente_string)\n",
    "\n"
   ],
   "metadata": {
    "collapsed": false,
    "pycharm": {
     "name": "#%%\n",
     "is_executing": false
    }
   }
  }
 ],
 "metadata": {
  "kernelspec": {
   "display_name": "Python 3",
   "language": "python",
   "name": "python3"
  },
  "language_info": {
   "codemirror_mode": {
    "name": "ipython",
    "version": 2
   },
   "file_extension": ".py",
   "mimetype": "text/x-python",
   "name": "python",
   "nbconvert_exporter": "python",
   "pygments_lexer": "ipython2",
   "version": "2.7.6"
  },
  "pycharm": {
   "stem_cell": {
    "cell_type": "raw",
    "source": [],
    "metadata": {
     "collapsed": false
    }
   }
  }
 },
 "nbformat": 4,
 "nbformat_minor": 0
}